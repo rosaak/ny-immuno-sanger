{
 "cells": [
  {
   "cell_type": "markdown",
   "id": "e723d4c0-9fb4-4548-9716-7dd2ff3297bf",
   "metadata": {},
   "source": [
    "# This script takes sequenced ABI files (from VH and VL) and aligned with genbank file - the script filter and gives the mean error probability \n",
    "- requires utils.py and fns.py"
   ]
  },
  {
   "cell_type": "code",
   "execution_count": 1,
   "id": "8796b863-bb06-4e6e-a887-69e5f31dea68",
   "metadata": {},
   "outputs": [],
   "source": [
    "import configparser\n",
    "import dataclasses\n",
    "import os\n",
    "import re\n",
    "import shutil\n",
    "import statistics\n",
    "from collections import Counter\n",
    "from itertools import chain\n",
    "from pathlib import Path\n",
    "from time import perf_counter\n",
    "\n",
    "import pandas as pd\n",
    "from Bio import SeqIO, pairwise2\n",
    "from Bio.pairwise2 import format_alignment\n",
    "from Bio.Seq import Seq\n",
    "import logging\n",
    "import xlsxwriter\n",
    "\n",
    "import utils\n",
    "from fns import *\n",
    "\n",
    "pd.set_option('display.max_colwidth', 0)"
   ]
  },
  {
   "cell_type": "markdown",
   "id": "2077ee22-da02-4b87-b77d-e9fc92ecc4c7",
   "metadata": {
    "tags": []
   },
   "source": [
    "## START LOGGING "
   ]
  },
  {
   "cell_type": "code",
   "execution_count": 2,
   "id": "36841127-f956-46a2-a080-4f576bf7f435",
   "metadata": {},
   "outputs": [],
   "source": [
    "Path('logs').mkdir(parents=True, exist_ok=True)\n",
    "log = utils.make_logger(\"logs/log\")\n",
    "log.info(\"\\nSTART\")\n",
    "log.info(\"\\nCHECKING CONFIGURATION FILE CONTENTS...\")"
   ]
  },
  {
   "cell_type": "markdown",
   "id": "bf0a8477-6d9a-4b2f-a6f1-e413782e3bb1",
   "metadata": {
    "tags": []
   },
   "source": [
    "## GET PARAMS FROM CONFIG FILE"
   ]
  },
  {
   "cell_type": "code",
   "execution_count": 3,
   "id": "ed092308-44cf-4f33-bf78-478e63249bb3",
   "metadata": {},
   "outputs": [],
   "source": [
    "# checking config file\n",
    "# if any error occurs then program terminates; then check the config file\n",
    "config = configparser.ConfigParser()\n",
    "config.read_file(open('config.ini'))\n",
    "\n",
    "abi_sequence_folder = checking_dirs(config['Paths']['abi_sequence_folder'], log, log_msg=True, create_dir=False)\n",
    "vh_template_sequence_folder = checking_dirs(config['Paths']['vh_template_sequence_folder'], log, log_msg=True, create_dir=False)\n",
    "vl_template_sequence_folder = checking_dirs(config['Paths']['vl_template_sequence_folder'], log, log_msg=True, create_dir=False)\n",
    "results_dir = checking_dirs(config['Paths']['results_dir'], log, log_msg=True, create_dir=True)\n",
    "h3_nt_data_sheet_filepath = check_files(config['Files']['h3_nt_data_sheet_filepath'], log)\n",
    "df = check_tsv_file(h3_nt_data_sheet_filepath, log)\n",
    "excel_path_file_name = create_results_excel_file_path(config['Paths']['results_dir'], config['Files']['output_excel_file_name'])\n",
    "\n",
    "# patterns\n",
    "pat_vh, pat_vl = get_patterns(config)\n",
    "# patterns to remove from abi names\n",
    "patrm_vh_abi, patrm_vl_abi = get_patterns_to_rm(config)\n",
    "# patterns to remove from genbank names\n",
    "patrm_vh_gb, patrm_vl_gb = get_patterns_to_rm_from_genbank(config)\n",
    "\n",
    "# get alignment parameters\n",
    "par_match, par_missmatch, par_open, par_extend, par_filter_thresh = get_alignment_params(config)\n",
    "\n",
    "# get alignment start and end regions\n",
    "#vh_seq_start_a, vh_seq_end_a, vl_seq_start_a, vl_seq_end_a = get_alignment_seq_start_and_end(config)\n",
    "\n",
    "# creating dirs for copying matched abi files\n",
    "res_dir_vh = checking_dirs(f\"{results_dir}/{pat_vh}\", log, log_msg=True, create_dir=True)\n",
    "res_dir_vl = checking_dirs(f\"{results_dir}/{pat_vl}\", log, log_msg=True, create_dir=True)\n"
   ]
  },
  {
   "cell_type": "markdown",
   "id": "13ea2c10-c6de-4917-a792-519e1dd8b2f9",
   "metadata": {
    "tags": []
   },
   "source": [
    "## GET ABI FILES"
   ]
  },
  {
   "cell_type": "code",
   "execution_count": 4,
   "id": "f4d15e9c-df09-4d4e-b81a-071146f37858",
   "metadata": {},
   "outputs": [],
   "source": [
    "log.info(\"\\nCHECKING THE AB1 FILES...\")\n",
    "vh_abi_dict = {i.name.replace('.abi', '').replace(patrm_vh_abi, '') : str(i) for i in sorted([*Path(abi_sequence_folder).glob(f\"*{pat_vh}*.abi\")])}\n",
    "vl_abi_dict = {i.name.replace('.abi', '').replace(patrm_vl_abi, '') : str(i) for i in sorted([*Path(abi_sequence_folder).glob(f\"*{pat_vl}*.abi\")])}\n",
    "\n",
    "if len(vh_abi_dict) == len(vl_abi_dict):\n",
    "    log.info(f\"[+] INFO: There are {len(vh_abi_dict)} abi files in the abi sequence folder\")\n",
    "else:\n",
    "    log.warning(f\"[+] WARN: There is a differrence in number of abi files in vh: {len(vh_abi_dict)} and vl {len(vl_abi_dict)}\")"
   ]
  },
  {
   "cell_type": "code",
   "execution_count": 5,
   "id": "88d434ba-8a91-45bb-80c1-eece335bd33b",
   "metadata": {},
   "outputs": [],
   "source": [
    "sample_ids = checking_ab1_files(log, vh_abi_dict, vl_abi_dict)"
   ]
  },
  {
   "cell_type": "code",
   "execution_count": 6,
   "id": "53226f2b-c9fe-45e4-8ce9-27dd20612617",
   "metadata": {},
   "outputs": [],
   "source": [
    "log.info(\"\\nCHECKING THE GENBANK FILES...\")\n",
    "vh_template_gb_dict =  {i.name.replace('.gb', '') : str(i) for i in sorted(Path(vh_template_sequence_folder).glob('*.gb'))}\n",
    "vl_template_gb_dict =  {i.name.replace('.gb', '') : str(i) for i in sorted(Path(vl_template_sequence_folder).glob('*.gb'))}\n",
    "\n",
    "if len(vh_template_gb_dict) == len(vl_template_gb_dict):\n",
    "    log.info(f\"[+] INFO: There are {len(vh_template_gb_dict)} genbank files in each dir vh and vl\")\n",
    "else:\n",
    "    log.warning(f\"[+] WARN: There is a differrence in number of genbank files in vh: {len(vh_template_gb_dict)} and vl {len(vl_template_gb_dict)}\")"
   ]
  },
  {
   "cell_type": "code",
   "execution_count": 7,
   "id": "b1a6b90e-f4ff-45c0-a665-ab91ca8b482e",
   "metadata": {},
   "outputs": [],
   "source": [
    "# get alignment start and end regions\n",
    "vh_nts = extract_nts_from_start_and_end_from_genbank(vh_template_gb_dict, 6)\n",
    "vl_nts = extract_nts_from_start_and_end_from_genbank(vl_template_gb_dict, 6)\n",
    "vh_seq_start_a, vh_seq_end_a = vh_nts.start_nts.value_counts().nlargest(1).index[0], vh_nts.end_nts.value_counts().nlargest(1).index[0]\n",
    "vl_seq_start_a, vl_seq_end_a = vl_nts.start_nts.value_counts().nlargest(1).index[0], vl_nts.end_nts.value_counts().nlargest(1).index[0]"
   ]
  },
  {
   "cell_type": "markdown",
   "id": "4d97f148-8bda-445b-9982-67990e543806",
   "metadata": {
    "tags": []
   },
   "source": [
    "## GET PROBE SEQS INTO A DICTIOANRY"
   ]
  },
  {
   "cell_type": "code",
   "execution_count": 8,
   "id": "13c10bc4-9295-4553-b989-57c2e9ea53d3",
   "metadata": {},
   "outputs": [],
   "source": [
    "# dictionary containing probe seq and name\n",
    "h3_dict = df.set_index('name', drop=True).to_dict().get('h3_nt')"
   ]
  },
  {
   "cell_type": "markdown",
   "id": "04bcde21-6690-4d6d-8dda-4f50cc6f567d",
   "metadata": {
    "tags": []
   },
   "source": [
    "## FINDING THE PROBES THAT MATCH VH AND CORRESPONDING VL FILES"
   ]
  },
  {
   "cell_type": "code",
   "execution_count": 9,
   "id": "273e0653-b8a4-46b5-a1a8-755461ea23cf",
   "metadata": {},
   "outputs": [],
   "source": [
    "log.info(f\"\\nITERATING THROUGH EACH SAMPLE ID\")\n",
    "result_vh, result_vl = [], []\n",
    "for sample in sample_ids:\n",
    "    # print(f\">>{sample}\")\n",
    "    _vhabi, _vlabi = get_abi_file_path(key=sample, vh_abi_dict=vh_abi_dict, vl_abi_dict=vl_abi_dict)\n",
    "    _vh_d = get_seqobj_from_abi(_vhabi)  # returns a seq record obj of VH\n",
    "    _vl_d = get_seqobj_from_abi(_vlabi)  # returns a seq record obj of VL\n",
    "    \n",
    "    # matching each probe on  VH and VL - normal and revcomp sequence\n",
    "    vh_prob_search = find_match_on_all_h3probes_v3(log, h3_dict, _vh_d, _vl_d, sample, vh_abi_dict, vl_abi_dict)\n",
    "    \n",
    "    if len(vh_prob_search) >=1:\n",
    "        result_vh.append(vh_prob_search)\n",
    "log.info(f\"\\nFINISH ITERATING THROUGH EACH SAMPLE ID\")\n",
    "colnames=[\"Match\",\"h3_name\",\"sample_id\",\"vh_abi_fp\",\"vl_abi_fp\",\"probe_seq\", \"vh_init_sr\", \"vl_inti_sr\",\"vh_sr_seq_r\", \"vh_sr_trimmed\", \"vh_sr_tqlst\", \"vl_sr_seq_r\", \"vl_sr_trimmed\", \"vl_sr_tqlst\"]\n",
    "df_vh = pd.DataFrame(chain.from_iterable(result_vh))\n",
    "df_vh.columns = colnames"
   ]
  },
  {
   "cell_type": "code",
   "execution_count": 10,
   "id": "d2d4b8a2-22cb-4d0c-b28f-38f288073b13",
   "metadata": {},
   "outputs": [],
   "source": [
    "log.info(f\"[+] INFO: There are {df_vh.shape[0]} matches in df_vh\")"
   ]
  },
  {
   "cell_type": "markdown",
   "id": "75775b09-e667-4def-abb9-090d10defccc",
   "metadata": {},
   "source": [
    "## COPY PROBE MATCHED ABI FILES TO A NEW LOC"
   ]
  },
  {
   "cell_type": "code",
   "execution_count": 11,
   "id": "e8c46033-e70e-483c-a091-43d31e67d9dc",
   "metadata": {},
   "outputs": [],
   "source": [
    "log.info(f\"\\nCOPY MATCHED ABI FILES INTO NEW LOCATION\")\n",
    "res_df_copy = copy_mtched_abi_files_to_resdir(log, res_dir_vh, res_dir_vl, df_vh, log_msg=True)\n",
    "log.info(f\"\\nFINISH COPYING FILES\")"
   ]
  },
  {
   "cell_type": "markdown",
   "id": "1ff12f43-4909-4fa5-9dff-d1cd22e37b10",
   "metadata": {},
   "source": [
    "## PAIRWISE ALIGNMENT OF GENBANK FILES WITH MATCHED ABI FILES TO GET THE MATCHING SCORE "
   ]
  },
  {
   "cell_type": "code",
   "execution_count": 12,
   "id": "d49a156e-1555-41fc-bddb-16bf5c9d559c",
   "metadata": {},
   "outputs": [],
   "source": [
    "log.info(f\"\\nFIND THE GB FILENASMES WITH H3 NAMES\")\n",
    "M_gb_abi_vh = find_gb_match_on_all_h3probes(log, vh_template_gb_dict, df_vh, pattern=patrm_vh_gb, log_msg=True)\n",
    "M_gb_abi_vl = find_gb_match_on_all_h3probes(log, vl_template_gb_dict, df_vh, pattern=patrm_vl_gb, log_msg=True)"
   ]
  },
  {
   "cell_type": "code",
   "execution_count": 13,
   "id": "047a0acd-4357-4add-ad94-aed645fda0b8",
   "metadata": {},
   "outputs": [],
   "source": [
    "all_gb_match = pd.concat([M_gb_abi_vh, M_gb_abi_vl]).reset_index(drop=True)"
   ]
  },
  {
   "cell_type": "code",
   "execution_count": 14,
   "id": "b2432476-57b3-4768-9009-f9f9f2439885",
   "metadata": {},
   "outputs": [],
   "source": [
    "log.info(f\"\\nALIGNEMNT BETWEEN THE MATCHED GB FILENASME AND ABI FILES\")"
   ]
  },
  {
   "cell_type": "code",
   "execution_count": 15,
   "id": "efcf0005-fa5c-4e15-9b4d-d83e99291316",
   "metadata": {},
   "outputs": [],
   "source": [
    "vh_gb_abi_match_filtered = run_gb_alignment_and_filtering_v2(M_gb_abi_vh, df_vh, vh_template_gb_dict, vh_seq_start_a, vh_seq_end_a, par_match, par_missmatch, par_open, par_extend, par_filter_thresh, log, log_msg=True, is_data_vl=False)"
   ]
  },
  {
   "cell_type": "code",
   "execution_count": 16,
   "id": "42031e5f-7ff0-48e5-aeda-a60787e05171",
   "metadata": {},
   "outputs": [],
   "source": [
    "vl_gb_abi_match_filtered = run_gb_alignment_and_filtering_v2(M_gb_abi_vl, df_vh, vl_template_gb_dict, vl_seq_start_a, vl_seq_end_a, par_match, par_missmatch, par_open, par_extend, par_filter_thresh, log, log_msg=True, is_data_vl=True)"
   ]
  },
  {
   "cell_type": "code",
   "execution_count": 17,
   "id": "0a16f1c6-f54a-4940-8bdc-91152b034d0e",
   "metadata": {},
   "outputs": [],
   "source": [
    "log.info(f\"\\nMERGING DATAFRAMES\")"
   ]
  },
  {
   "cell_type": "code",
   "execution_count": 18,
   "id": "6139dcfa-6323-44fb-8d56-a2ecad92cbc1",
   "metadata": {},
   "outputs": [],
   "source": [
    "vh_gb_abi_match_filtered.columns = [ 'VH_'+i  if i not in ['Orient','gbid','H3_name', 'sample_id', 'GB_FP'] else i  for i in vh_gb_abi_match_filtered.columns ]\n",
    "vl_gb_abi_match_filtered.columns = [ 'VL_'+i  if i not in ['Orient','gbid','H3_name', 'sample_id', 'GB_FP'] else i  for i in vl_gb_abi_match_filtered.columns ]"
   ]
  },
  {
   "cell_type": "code",
   "execution_count": 19,
   "id": "9011561a-8f6f-4a05-9b5b-521031881d4b",
   "metadata": {},
   "outputs": [],
   "source": [
    "df_sid_abi = pd.concat(\n",
    "    [pd.DataFrame([ [i, vh_abi_dict.get(i).split(\"/\")[-1], vl_abi_dict.get(i).split(\"/\")[-1]] for i in vh_gb_abi_match_filtered.sample_id.to_list()], \n",
    "             columns=[\"sample_id\", \"VH\", \"VL\"]),\n",
    "    pd.DataFrame([ [i, vh_abi_dict.get(i).split(\"/\")[-1], vl_abi_dict.get(i).split(\"/\")[-1]] for i in vl_gb_abi_match_filtered.sample_id.to_list()], \n",
    "             columns=[\"sample_id\", \"VH\", \"VL\"])], axis=0).drop_duplicates().reset_index(drop=True)"
   ]
  },
  {
   "cell_type": "code",
   "execution_count": 20,
   "id": "9ebf6bf0-da54-4aba-b409-e12b5fd345a4",
   "metadata": {},
   "outputs": [],
   "source": [
    "dfx1 = pd.merge(vh_gb_abi_match_filtered,df_sid_abi,on='sample_id')\n",
    "dfx2 = pd.merge(vl_gb_abi_match_filtered,df_sid_abi,on='sample_id')\n",
    "dfx1_ss = dfx1[['gbid','H3_name','sample_id', 'VH_Score', 'VH_Quality_score', 'VH_Low_quality', 'VH', 'VL']]\n",
    "dfx2_ss = dfx2[['gbid','H3_name','sample_id', 'VL_Score', 'VL_Quality_score', 'VL_Low_quality', 'VH', 'VL']]\n",
    "dfy = pd.merge(dfx1_ss, dfx2_ss, on=\"sample_id\", how='inner')\n",
    "\n",
    "dfz = dfy.copy()\n",
    "dfz[\"mean_error_prob\"] = [cal_mean_error_prob(i[0], i[1]) for i in zip(dfy.VH_Low_quality.tolist(), dfy.VL_Low_quality.to_list())]\n",
    "dfz = dfz[[\"gbid_x\", \"H3_name_x\", \"sample_id\", \"VH_Score\", \"VH_Quality_score\", \"VH_Low_quality\", \"VL_Score\",\"VL_Quality_score\", \"VL_Low_quality\", \"mean_error_prob\", \"VH_x\", \"VL_x\"]]\n",
    "dfz = dfz.drop_duplicates()\n",
    "dfz.columns = ['gbid', 'H3_name', 'sample_id', 'VH_Score', 'VH_Mean_Quality_score', 'VH_Low_quality', 'VL_Score', 'VL_Men_Quality_score', 'VL_Low_quality', 'Mean_Error_Prob', 'VH', 'VL']"
   ]
  },
  {
   "cell_type": "code",
   "execution_count": 21,
   "id": "08b87199-0020-4a57-b3c8-6ca58d44ef92",
   "metadata": {},
   "outputs": [],
   "source": [
    "log.info(f\"[+] INFO: There are {vh_gb_abi_match_filtered.shape[0]} rows in the GB - VH aligned datafrme `vh_gb_abi_match_filtered`\")\n",
    "log.info(f\"[+] INFO: There are {vl_gb_abi_match_filtered.shape[0]} rows in the GB - VL aligned datafrme `vl_gb_abi_match_filtered`\")\n",
    "log.info(f\"[+] INFO: There are {dfz.shape[0]} rows in the final - filtered merged cleanedup results\")\n",
    "\n",
    "log.info(f\"[+] STAT: basic stats of the numerical columns in the final dataframe : \\n{dfz[dfz.dtypes[dfz.dtypes !='object'].index].describe()}\")"
   ]
  },
  {
   "cell_type": "code",
   "execution_count": 22,
   "id": "5408d10e-0b47-43e3-b257-2b9a16f0cc1d",
   "metadata": {},
   "outputs": [],
   "source": [
    "log.info(f\"\\nWRTING EXCEL FILES\")"
   ]
  },
  {
   "cell_type": "code",
   "execution_count": 23,
   "id": "077af785-34e4-4d67-8886-f31b44b755c6",
   "metadata": {},
   "outputs": [],
   "source": [
    "excel_fp = get_excel_file_name(config, accessory=False)\n",
    "with pd.ExcelWriter(excel_fp, engine='xlsxwriter') as writer:\n",
    "    dfz.to_excel(writer, sheet_name='final_res_mean_error_prob', index=False)\n",
    "    all_gb_match.to_excel(writer, sheet_name='ID matched gb and vh abi', index=False)"
   ]
  },
  {
   "cell_type": "code",
   "execution_count": 24,
   "id": "ee499eab-dc79-4a30-909d-60200ccb2aa1",
   "metadata": {},
   "outputs": [],
   "source": [
    "excel_fp2 = get_excel_file_name(config, accessory=True)\n",
    "with pd.ExcelWriter(excel_fp2, engine='xlsxwriter') as writer:    \n",
    "    df_vh.to_excel(writer, sheet_name='H3_probe_matched_VH_and_VL', index=False)\n",
    "    res_df_copy.to_excel(writer, sheet_name='VH and VL Copied Files', index=False)\n",
    "    vh_nts.to_excel(writer, sheet_name='vh_gb_start_end_nts', index=False)\n",
    "    vl_nts.to_excel(writer, sheet_name='vl_gb_start_end_nts', index=False)\n",
    "    vh_gb_abi_match_filtered.to_excel(writer, sheet_name='VH results', index=False)\n",
    "    vl_gb_abi_match_filtered.to_excel(writer, sheet_name='VL results', index=False)"
   ]
  },
  {
   "cell_type": "code",
   "execution_count": 25,
   "id": "8d91caec-16f2-4b6c-843e-1e315f4731f7",
   "metadata": {},
   "outputs": [],
   "source": [
    "log.info(f\"\\nFINISNED\")"
   ]
  }
 ],
 "metadata": {
  "kernelspec": {
   "display_name": "Python 3 (ipykernel)",
   "language": "python",
   "name": "python3"
  },
  "language_info": {
   "codemirror_mode": {
    "name": "ipython",
    "version": 3
   },
   "file_extension": ".py",
   "mimetype": "text/x-python",
   "name": "python",
   "nbconvert_exporter": "python",
   "pygments_lexer": "ipython3",
   "version": "3.9.0"
  }
 },
 "nbformat": 4,
 "nbformat_minor": 5
}
