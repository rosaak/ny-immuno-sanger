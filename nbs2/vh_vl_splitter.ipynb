{
 "cells": [
  {
   "cell_type": "code",
   "execution_count": 1,
   "id": "318a6c3b-b640-409c-a167-9d07b34e5e52",
   "metadata": {},
   "outputs": [],
   "source": [
    "import configparser\n",
    "import dataclasses\n",
    "import os\n",
    "import re\n",
    "import shutil\n",
    "import statistics\n",
    "from collections import Counter\n",
    "from itertools import chain\n",
    "from pathlib import Path\n",
    "from time import perf_counter\n",
    "\n",
    "import pandas as pd\n",
    "from Bio import SeqIO, pairwise2\n",
    "from Bio.pairwise2 import format_alignment\n",
    "from Bio.Seq import Seq\n",
    "import logging\n",
    "import xlsxwriter\n",
    "\n",
    "import utils\n",
    "from fns import *"
   ]
  },
  {
   "cell_type": "markdown",
   "id": "5f154e50-4f8f-4b74-aa8e-75b82c2adbc1",
   "metadata": {
    "tags": []
   },
   "source": [
    "## START LOGGING "
   ]
  },
  {
   "cell_type": "code",
   "execution_count": 2,
   "id": "855210e7-2a75-45ba-8bb9-0bc6f2e0913e",
   "metadata": {},
   "outputs": [],
   "source": [
    "Path('logs').mkdir(parents=True, exist_ok=True)\n",
    "log = utils.make_logger(\"logs/rp_log\")\n",
    "log.info(\"\\nSTART\")\n",
    "log.info(\"\\nCHECKING CONFIGURATION FILE CONTENTS...\")"
   ]
  },
  {
   "cell_type": "markdown",
   "id": "f4acbf18-3fb3-444c-b2e5-b0ddc0a4967a",
   "metadata": {
    "tags": []
   },
   "source": [
    "## GET PARAMS FROM CONFIG FILE"
   ]
  },
  {
   "cell_type": "code",
   "execution_count": 3,
   "id": "2b6b3406-3333-4ece-a338-f29d844ad33e",
   "metadata": {},
   "outputs": [],
   "source": [
    "# checking config file\n",
    "# if any error occurs then program terminates; then check the config file\n",
    "config = configparser.ConfigParser()\n",
    "config.read_file(open('config.ini'))\n",
    "\n",
    "abi_sequence_folder = checking_dirs(config['Paths']['abi_sequence_folder'], log, log_msg=True, create_dir=False)\n",
    "vh_template_sequence_folder = checking_dirs(config['Paths']['vh_template_sequence_folder'], log, log_msg=True, create_dir=False)\n",
    "vl_template_sequence_folder = checking_dirs(config['Paths']['vl_template_sequence_folder'], log, log_msg=True, create_dir=False)\n",
    "results_dir = checking_dirs(config['Paths']['results_dir'], log, log_msg=True, create_dir=True)\n",
    "h3_nt_data_sheet_filepath = check_files(config['Files']['h3_nt_data_sheet_filepath'], log)\n",
    "df = check_tsv_file(h3_nt_data_sheet_filepath, log)\n",
    "excel_path_file_name = create_results_excel_file_path(config['Paths']['results_dir'], config['Files']['output_excel_file_name'])\n",
    "\n",
    "# patterns\n",
    "pat_vh, pat_vl = get_patterns(config)\n",
    "# patterns to remove from abi names\n",
    "patrm_vh_abi, patrm_vl_abi = get_patterns_to_rm(config)\n",
    "# patterns to remove from genbank names\n",
    "patrm_vh_gb, patrm_vl_gb = get_patterns_to_rm_from_genbank(config)\n",
    "\n",
    "# get alignment parameters\n",
    "par_match, par_missmatch, par_open, par_extend, par_filter_thresh = get_alignment_params(config)\n",
    "\n",
    "# get alignment start and end regions\n",
    "#vh_seq_start_a, vh_seq_end_a, vl_seq_start_a, vl_seq_end_a = get_alignment_seq_start_and_end(config)\n",
    "\n",
    "# creating dirs for copying matched abi files\n",
    "res_dir_vh = checking_dirs(f\"{results_dir}/{pat_vh}\", log, log_msg=True, create_dir=True)\n",
    "res_dir_vl = checking_dirs(f\"{results_dir}/{pat_vl}\", log, log_msg=True, create_dir=True)\n"
   ]
  },
  {
   "cell_type": "markdown",
   "id": "e5f84092-4882-49e2-b3a2-8289e0a5f2bb",
   "metadata": {
    "tags": []
   },
   "source": [
    "## GET ABI FILES"
   ]
  },
  {
   "cell_type": "code",
   "execution_count": 4,
   "id": "e2f9959b-ad9a-4844-a3e8-27e29075b630",
   "metadata": {},
   "outputs": [],
   "source": [
    "log.info(\"\\nCHECKING THE AB1 FILES...\")\n",
    "vh_abi_dict = {i.name.replace('.abi', '').replace(patrm_vh_abi, '') : str(i) for i in sorted([*Path(abi_sequence_folder).glob(f\"*{pat_vh}*.abi\")])}\n",
    "vl_abi_dict = {i.name.replace('.abi', '').replace(patrm_vl_abi, '') : str(i) for i in sorted([*Path(abi_sequence_folder).glob(f\"*{pat_vl}*.abi\")])}\n",
    "\n",
    "if len(vh_abi_dict) == len(vl_abi_dict):\n",
    "    log.info(f\"[+] INFO: There are {len(vh_abi_dict)} abi files in the abi sequence folder\")\n",
    "else:\n",
    "    log.warning(f\"[+] WARN: There is a differrence in number of abi files in vh: {len(vh_abi_dict)} and vl {len(vl_abi_dict)}\")"
   ]
  },
  {
   "cell_type": "code",
   "execution_count": 5,
   "id": "0d37fa9c-9453-4a4e-9267-355d4e13251a",
   "metadata": {},
   "outputs": [],
   "source": [
    "sample_ids = checking_ab1_files(log, vh_abi_dict, vl_abi_dict)"
   ]
  },
  {
   "cell_type": "code",
   "execution_count": 6,
   "id": "984dfae8-1a01-4ea7-8509-64c69c1783b6",
   "metadata": {},
   "outputs": [],
   "source": [
    "log.info(\"\\nCHECKING THE GENBANK FILES...\")\n",
    "vh_template_gb_dict =  {i.name.replace('.gb', '') : str(i) for i in sorted(Path(vh_template_sequence_folder).glob('*.gb'))}\n",
    "vl_template_gb_dict =  {i.name.replace('.gb', '') : str(i) for i in sorted(Path(vl_template_sequence_folder).glob('*.gb'))}\n",
    "\n",
    "if len(vh_template_gb_dict) == len(vl_template_gb_dict):\n",
    "    log.info(f\"[+] INFO: There are {len(vh_template_gb_dict)} genbank files in each dir vh and vl\")\n",
    "else:\n",
    "    log.warning(f\"[+] WARN: There is a differrence in number of genbank files in vh: {len(vh_template_gb_dict)} and vl {len(vl_template_gb_dict)}\")"
   ]
  },
  {
   "cell_type": "code",
   "execution_count": 7,
   "id": "b2ca6e89-7444-47d7-a125-f7a8ed38656d",
   "metadata": {},
   "outputs": [],
   "source": [
    "# get alignment start and end regions\n",
    "vh_nts = extract_nts_from_start_and_end_from_genbank(vh_template_gb_dict, 6)\n",
    "vl_nts = extract_nts_from_start_and_end_from_genbank(vl_template_gb_dict, 6)\n",
    "vh_seq_start_a, vh_seq_end_a = vh_nts.start_nts.value_counts().nlargest(1).index[0], vh_nts.end_nts.value_counts().nlargest(1).index[0]\n",
    "vl_seq_start_a, vl_seq_end_a = vl_nts.start_nts.value_counts().nlargest(1).index[0], vl_nts.end_nts.value_counts().nlargest(1).index[0]"
   ]
  },
  {
   "cell_type": "markdown",
   "id": "6e84de30-46fe-4c08-beed-74535c9ce8a0",
   "metadata": {
    "tags": []
   },
   "source": [
    "## GET PROBE SEQS INTO A DICTIOANRY"
   ]
  },
  {
   "cell_type": "code",
   "execution_count": 8,
   "id": "cf3e07c7-e173-4770-bf14-06501e121a10",
   "metadata": {},
   "outputs": [],
   "source": [
    "# dictionary containing probe seq and name\n",
    "h3_dict = df.set_index('name', drop=True).to_dict().get('h3_nt')"
   ]
  },
  {
   "cell_type": "markdown",
   "id": "44dd8dca-4ca6-409d-ad71-36ae0ba9eb79",
   "metadata": {
    "tags": []
   },
   "source": [
    "## FINDING THE PROBES THAT MATCH VH AND CORRESPONDING VL FILES"
   ]
  },
  {
   "cell_type": "code",
   "execution_count": 9,
   "id": "c1da159c-b4fa-4d2b-b228-209a1dcd3aed",
   "metadata": {},
   "outputs": [],
   "source": [
    "log.info(f\"\\nITERATING THROUGH EACH SAMPLE ID\")\n",
    "result_vh, result_vl = [], []\n",
    "for sample in sample_ids:\n",
    "    # print(f\">>{sample}\")\n",
    "    _vhabi, _vlabi = get_abi_file_path(key=sample, vh_abi_dict=vh_abi_dict, vl_abi_dict=vl_abi_dict)\n",
    "    _vh_d = get_seqobj_from_abi(_vhabi)  # returns a seq record obj of VH\n",
    "    _vl_d = get_seqobj_from_abi(_vlabi)  # returns a seq record obj of VL\n",
    "    \n",
    "    # matching each probe on  VH and VL - normal and revcomp sequence\n",
    "    vh_prob_search = find_match_on_all_h3probes_v3(log, h3_dict, _vh_d, _vl_d, sample, vh_abi_dict, vl_abi_dict)\n",
    "    \n",
    "    if len(vh_prob_search) >=1:\n",
    "        result_vh.append(vh_prob_search)\n",
    "log.info(f\"\\nFINISH ITERATING THROUGH EACH SAMPLE ID\")\n",
    "colnames=[\"Match\",\"h3_name\",\"sample_id\",\"vh_abi_fp\",\"vl_abi_fp\",\"probe_seq\", \"vh_init_sr\", \"vl_inti_sr\",\"vh_sr_seq_r\", \"vh_sr_trimmed\", \"vh_sr_tqlst\", \"vl_sr_seq_r\", \"vl_sr_trimmed\", \"vl_sr_tqlst\"]\n",
    "df_vh = pd.DataFrame(chain.from_iterable(result_vh))\n",
    "df_vh.columns = colnames"
   ]
  },
  {
   "cell_type": "code",
   "execution_count": 10,
   "id": "a0c0623a-9531-4c11-a8e5-e32d03d35413",
   "metadata": {},
   "outputs": [],
   "source": [
    "log.info(f\"[+] INFO: There are {df_vh.shape[0]} matches in df_vh\")"
   ]
  },
  {
   "cell_type": "markdown",
   "id": "77a9d4e2-3c92-4e5e-9a75-9c5e29c30858",
   "metadata": {},
   "source": [
    "## COPY PROBE MATCHED ABI FILES TO A NEW LOC"
   ]
  },
  {
   "cell_type": "code",
   "execution_count": 11,
   "id": "78b93507-ebf1-464d-9d31-3f4a09b021ff",
   "metadata": {},
   "outputs": [],
   "source": [
    "log.info(f\"\\nCOPY MATCHED ABI FILES INTO NEW LOCATION\")\n",
    "res_df_copy = copy_mtched_abi_files_to_resdir(log, res_dir_vh, res_dir_vl, df_vh, log_msg=True)\n",
    "log.info(f\"\\nFINISH COPYING FILES\")"
   ]
  },
  {
   "cell_type": "markdown",
   "id": "ed13cf18-824c-405f-ad08-494e31bc1c5a",
   "metadata": {},
   "source": [
    "## PAIRWISE ALIGNMENT OF GENBANK FILES WITH MATCHED ABI FILES TO GET THE MATCHING SCORE \n",
    "- Iterate through the VH (and VL) genbank file names [the file names are in a dict vh_template_gb_dict]\n",
    "    - if the gb file name matches with h3_name column in df_vh or df_vl \n",
    "      - then save that into a list gb_match_with_dfvx_lst\n",
    "          - GB_Matched|gb_id|h3_name|sample_id|gb_fp|vh_abi_fp|vl_abi_fp\n",
    "- gb file name could match an h3_name; also this h3_name might be associated with different sample ids\n",
    "```\n",
    "[+] GENBANK_MATCHING:|genbank_id|h3_name|sample_id\n",
    "[+] GENBANK_MATCHING:|VH-TMH577-hF-005-G08|TMH577-hF-005-G08|TMH577-hIgG1-014-A8_A08\n",
    "[+] GENBANK_MATCHING:|VH-TMH577-hF-005-G08|TMH577-hF-005-G08|TMH577-hIgG1-014-C4_C04\n",
    "```"
   ]
  },
  {
   "cell_type": "code",
   "execution_count": 12,
   "id": "a34279d7-8ffe-4b71-940d-99af290a5935",
   "metadata": {},
   "outputs": [],
   "source": [
    "log.info(f\"\\nFIND THE GB FILENASMES WITH H3 NAMES\")\n",
    "M_gb_abi_vh = find_gb_match_on_all_h3probes_v2(log, vh_template_gb_dict, df_vh, pattern=patrm_vh_gb, log_msg=True)\n",
    "M_gb_abi_vl = find_gb_match_on_all_h3probes_v2(log, vl_template_gb_dict, df_vh, pattern=patrm_vl_gb, log_msg=True)"
   ]
  },
  {
   "cell_type": "code",
   "execution_count": 13,
   "id": "fb5da092-83ad-4d93-ad9c-e49cc63462a7",
   "metadata": {},
   "outputs": [],
   "source": [
    "all_gb_match = pd.concat([M_gb_abi_vh, M_gb_abi_vl]).reset_index(drop=True)"
   ]
  },
  {
   "cell_type": "code",
   "execution_count": 14,
   "id": "ef405dc1-9c5f-4880-bcbe-5ec927011a75",
   "metadata": {},
   "outputs": [],
   "source": [
    "log.info(f\"\\nALIGNEMNT BETWEEN THE MATCHED GB FILENASME AND ABI FILES\")"
   ]
  },
  {
   "cell_type": "code",
   "execution_count": 15,
   "id": "4d481178-0dab-4d42-8884-ebb92d1a2a95",
   "metadata": {},
   "outputs": [],
   "source": [
    "vh_gb_abi_match_filtered = run_gb_alignment_and_filtering(M_gb_abi_vh, df_vh, vh_template_gb_dict, vh_seq_start_a, vh_seq_end_a, par_match, par_missmatch, par_open, par_extend, par_filter_thresh, log, log_msg=True, is_data_vl=False)"
   ]
  },
  {
   "cell_type": "code",
   "execution_count": 16,
   "id": "e5175c94-2a10-4c92-b434-d390be086c22",
   "metadata": {},
   "outputs": [],
   "source": [
    "vl_gb_abi_match_filtered = run_gb_alignment_and_filtering(M_gb_abi_vl, df_vh, vl_template_gb_dict, vl_seq_start_a, vl_seq_end_a, par_match, par_missmatch, par_open, par_extend, par_filter_thresh, log, log_msg=True, is_data_vl=True)"
   ]
  },
  {
   "cell_type": "code",
   "execution_count": 17,
   "id": "5f917865-0aa8-414e-9d9c-c076a6253561",
   "metadata": {},
   "outputs": [],
   "source": [
    "log.info(f\"\\nMERGING DATAFRAMES\")"
   ]
  },
  {
   "cell_type": "code",
   "execution_count": 18,
   "id": "92cbb5de-9eaa-452f-bdd7-363c60b2d076",
   "metadata": {},
   "outputs": [],
   "source": [
    "vh_gb_abi_match_filtered.columns = [ 'VH_'+i  if i not in ['Orient','gbid','H3_name', 'sample_id', 'GB_FP'] else i  for i in vh_gb_abi_match_filtered.columns ]\n",
    "vl_gb_abi_match_filtered.columns = [ 'VL_'+i  if i not in ['Orient','gbid','H3_name', 'sample_id', 'GB_FP'] else i  for i in vl_gb_abi_match_filtered.columns ]"
   ]
  },
  {
   "cell_type": "code",
   "execution_count": 19,
   "id": "4f227551-b7a6-433d-85bf-6bdad5108776",
   "metadata": {},
   "outputs": [],
   "source": [
    "df_sid_abi = pd.concat(\n",
    "    [pd.DataFrame([ [i, vh_abi_dict.get(i).split(\"/\")[-1], vl_abi_dict.get(i).split(\"/\")[-1]] for i in vh_gb_abi_match_filtered.sample_id.to_list()], \n",
    "             columns=[\"sample_id\", \"VH\", \"VL\"]),\n",
    "    pd.DataFrame([ [i, vh_abi_dict.get(i).split(\"/\")[-1], vl_abi_dict.get(i).split(\"/\")[-1]] for i in vl_gb_abi_match_filtered.sample_id.to_list()], \n",
    "             columns=[\"sample_id\", \"VH\", \"VL\"])], axis=0).drop_duplicates().reset_index(drop=True)"
   ]
  },
  {
   "cell_type": "code",
   "execution_count": 20,
   "id": "b92a39c7-6ad6-4ad6-9f83-f0fae2d3ba7b",
   "metadata": {},
   "outputs": [],
   "source": [
    "dfx1 = pd.merge(vh_gb_abi_match_filtered,df_sid_abi,on='sample_id')\n",
    "dfx2 = pd.merge(vl_gb_abi_match_filtered,df_sid_abi,on='sample_id')\n",
    "dfx1_ss = dfx1[['gbid','H3_name','sample_id', 'VH_Score', 'VH_Quality_score', 'VH_Low_quality', 'VH', 'VL']]\n",
    "dfx2_ss = dfx2[['gbid','H3_name','sample_id', 'VL_Score', 'VL_Quality_score', 'VL_Low_quality', 'VH', 'VL']]\n",
    "dfy = pd.merge(dfx1_ss, dfx2_ss, on=\"sample_id\", how='inner')"
   ]
  },
  {
   "cell_type": "code",
   "execution_count": 21,
   "id": "b2c943d1-5c30-47f2-9204-e8281d0e4fd9",
   "metadata": {},
   "outputs": [],
   "source": [
    "dfz = dfy.copy()\n",
    "dfz[\"mean_error_prob\"] = [cal_mean_error_prob(i[0], i[1]) for i in zip(dfy.VH_Low_quality.tolist(), dfy.VL_Low_quality.to_list())]"
   ]
  },
  {
   "cell_type": "code",
   "execution_count": 22,
   "id": "78092a31-60bf-4b58-9094-c0f67c2c5a91",
   "metadata": {},
   "outputs": [],
   "source": [
    "log.info(f\"\\nWRITE EXCEL FILE\")"
   ]
  },
  {
   "cell_type": "code",
   "execution_count": 24,
   "id": "b1143f81-4fbd-47ec-bbec-8053ab295751",
   "metadata": {},
   "outputs": [],
   "source": [
    "with pd.ExcelWriter('final_results.xlsx', engine='xlsxwriter') as writer:\n",
    "    dfz.to_excel(writer, sheet_name='final_res_mean_error_prob', index=False)\n",
    "    df_vh.to_excel(writer, sheet_name='H3_probe_matched_VH_and_VL', index=False)\n",
    "    res_df_copy.to_excel(writer, sheet_name='VH and VL Copied Files', index=False)\n",
    "    M_gb_abi_vh.to_excel(writer, sheet_name='ID matched gb and vh abi', index=False)\n",
    "    M_gb_abi_vh.to_excel(writer, sheet_name='ID matched gb and vh abi', index=False)\n",
    "    vh_nts.to_excel(writer, sheet_name='vh_gb_start_end_nts', index=False)\n",
    "    vl_nts.to_excel(writer, sheet_name='vl_gb_start_end_nts', index=False)\n",
    "    vh_gb_abi_match_filtered.to_excel(writer, sheet_name='VH results', index=False)\n",
    "    vl_gb_abi_match_filtered.to_excel(writer, sheet_name='VL results', index=False)\n",
    "    "
   ]
  },
  {
   "cell_type": "code",
   "execution_count": null,
   "id": "a9f5b522-ba5f-4e8b-868c-8f344d37c92a",
   "metadata": {},
   "outputs": [],
   "source": []
  }
 ],
 "metadata": {
  "kernelspec": {
   "display_name": "Python 3 (ipykernel)",
   "language": "python",
   "name": "python3"
  },
  "language_info": {
   "codemirror_mode": {
    "name": "ipython",
    "version": 3
   },
   "file_extension": ".py",
   "mimetype": "text/x-python",
   "name": "python",
   "nbconvert_exporter": "python",
   "pygments_lexer": "ipython3",
   "version": "3.9.0"
  }
 },
 "nbformat": 4,
 "nbformat_minor": 5
}
