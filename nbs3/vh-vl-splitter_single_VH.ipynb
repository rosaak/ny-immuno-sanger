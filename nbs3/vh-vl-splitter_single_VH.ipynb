{
 "cells": [
  {
   "cell_type": "markdown",
   "id": "e723d4c0-9fb4-4548-9716-7dd2ff3297bf",
   "metadata": {},
   "source": [
    "# This script takes sequenced ABI files from VH and aligned with genbank file - the script filters and copy it to a new dir\n",
    "- requires utils.py and fns.py"
   ]
  },
  {
   "cell_type": "code",
   "execution_count": 1,
   "id": "180b39f0-169c-4b18-9a35-7e855c0014da",
   "metadata": {},
   "outputs": [],
   "source": [
    "import configparser\n",
    "from collections import Counter\n",
    "from itertools import chain\n",
    "from pathlib import Path\n",
    "from time import perf_counter\n",
    "\n",
    "import pandas as pd\n",
    "import utils\n",
    "import xlsxwriter\n",
    "from fns import *"
   ]
  },
  {
   "cell_type": "markdown",
   "id": "2077ee22-da02-4b87-b77d-e9fc92ecc4c7",
   "metadata": {
    "tags": []
   },
   "source": [
    "## START LOGGING "
   ]
  },
  {
   "cell_type": "code",
   "execution_count": 2,
   "id": "36841127-f956-46a2-a080-4f576bf7f435",
   "metadata": {},
   "outputs": [],
   "source": [
    "Path('logs').mkdir(parents=True, exist_ok=True)\n",
    "log = utils.make_logger(\"logs/single_log\")\n",
    "log.info(\"START\")\n",
    "log.info(\"CHECKING CONFIGURATION FILE CONTENTS...\")"
   ]
  },
  {
   "cell_type": "markdown",
   "id": "bf0a8477-6d9a-4b2f-a6f1-e413782e3bb1",
   "metadata": {
    "tags": []
   },
   "source": [
    "## GET PARAMS FROM CONFIG FILE"
   ]
  },
  {
   "cell_type": "code",
   "execution_count": 3,
   "id": "42aa3786-9031-4ee6-b245-f2b7da60cf34",
   "metadata": {},
   "outputs": [],
   "source": [
    "# checking config file\n",
    "# if any error occurs then program terminates; then check the config file\n",
    "config = configparser.ConfigParser()\n",
    "config.read_file(open('config_single_vx.ini'))"
   ]
  },
  {
   "cell_type": "code",
   "execution_count": 4,
   "id": "fc42e9ff-405c-43bc-a2a3-0076127f4a3e",
   "metadata": {},
   "outputs": [],
   "source": [
    "abbr = get_analysis_abbr(config)\n",
    "abbr_lower = abbr.lower()\n",
    "abi_sequence_folder = checking_dirs(config['Paths']['abi_sequence_folder'], log, log_msg=True, create_dir=False)\n",
    "vx_template_sequence_folder = checking_dirs(config['Paths']['vx_template_sequence_folder'], log, log_msg=True, create_dir=False)\n",
    "results_dir = checking_dirs(config['Paths']['results_dir'], log, log_msg=True, create_dir=True)\n",
    "h3_nt_data_sheet_filepath = check_files(config['Files']['h3_nt_data_sheet_filepath'], log)\n",
    "df = check_tsv_file(h3_nt_data_sheet_filepath, log)\n",
    "excel_path_file_name = create_results_excel_file_path(config['Paths']['results_dir'], config['Files']['output_excel_file_name'])"
   ]
  },
  {
   "cell_type": "code",
   "execution_count": 5,
   "id": "1a770e87-df01-4841-bad0-11e431ab2aae",
   "metadata": {},
   "outputs": [],
   "source": [
    "# patterns\n",
    "pat_vx = get_patterns(config)\n",
    "# patterns to remove from abi names\n",
    "patrm_vx_abi = get_patterns_to_rm(config)\n",
    "# patterns to remove from genbank names\n",
    "patrm_vx_gb = get_patterns_to_rm_from_genbank(config)\n",
    "# get alignment parameters\n",
    "par_match, par_missmatch, par_open, par_extend, par_filter_thresh = get_alignment_params(config)\n",
    "# creating dirs for copying matched abi files\n",
    "res_dir_vx = checking_dirs(f\"{results_dir}/{pat_vx}\", log, log_msg=True, create_dir=True)\n",
    "# abi extension\n",
    "abi_extension = get_abi_extension(config)\n",
    "# genbak extension\n",
    "gb_extension = get_gb_extension(config)\n",
    "# genbank filter\n",
    "gb_filter_pat = get_gb_pattern_to_filter(config)"
   ]
  },
  {
   "cell_type": "markdown",
   "id": "e32c52df-75ba-4192-9cc5-dae6c41ff133",
   "metadata": {},
   "source": [
    "## CHECKING ABI FILES"
   ]
  },
  {
   "cell_type": "code",
   "execution_count": 6,
   "id": "f4d15e9c-df09-4d4e-b81a-071146f37858",
   "metadata": {},
   "outputs": [],
   "source": [
    "log.info(\"CHECKING THE AB1 FILES...\")\n",
    "vx_abi_dict = {i.name.replace(abi_extension, '').replace(patrm_vx_abi, '') : str(i) for i in sorted([*Path(abi_sequence_folder).glob(f\"*{pat_vx}*{abi_extension}\")])}\n",
    "log.info(f\"[+] INFO: There are {len(vx_abi_dict)} abi files in the ab1 sequence folder\")"
   ]
  },
  {
   "cell_type": "code",
   "execution_count": 7,
   "id": "88d434ba-8a91-45bb-80c1-eece335bd33b",
   "metadata": {},
   "outputs": [],
   "source": [
    "sample_ids = checking_vx_ab1_files(log, vx_abi_dict)"
   ]
  },
  {
   "cell_type": "code",
   "execution_count": 8,
   "id": "94ba5af2-acd7-4ebc-9e32-8b597b4c4599",
   "metadata": {},
   "outputs": [],
   "source": [
    "log.info(\"CHECKING THE GENBANK FILES...\")\n",
    "vx_template_gb_dict =  {i.name.replace(gb_extension, '') : str(i) for i in sorted(Path(vx_template_sequence_folder).glob(f\"*{gb_extension}\"))}"
   ]
  },
  {
   "cell_type": "markdown",
   "id": "2048bd09-c48c-4759-8348-1f1a4c0b259d",
   "metadata": {
    "tags": []
   },
   "source": [
    "### Filter genbank files with pattern"
   ]
  },
  {
   "cell_type": "code",
   "execution_count": 9,
   "id": "29bf81e6-c01d-46f0-8865-8a322647a117",
   "metadata": {},
   "outputs": [],
   "source": [
    "if len(gb_filter_pat) >=1:\n",
    "    vx_template_gb_dict_ss = {i[0]:i[1] for i in vx_template_gb_dict.items() if gb_filter_pat in i[0]}\n",
    "else:\n",
    "    vx_template_gb_dict_ss = vx_template_gb_dict"
   ]
  },
  {
   "cell_type": "code",
   "execution_count": 10,
   "id": "53226f2b-c9fe-45e4-8ce9-27dd20612617",
   "metadata": {},
   "outputs": [],
   "source": [
    "log.info(f\"[+] INFO: There are {len(vx_template_gb_dict_ss)} genbank files in the dir\")"
   ]
  },
  {
   "cell_type": "markdown",
   "id": "32aed57f-c692-4b64-aad7-f0240d0917d2",
   "metadata": {},
   "source": [
    "### Extracting 6bp nts from start and end of genbak files"
   ]
  },
  {
   "cell_type": "code",
   "execution_count": 11,
   "id": "b1a6b90e-f4ff-45c0-a665-ab91ca8b482e",
   "metadata": {},
   "outputs": [],
   "source": [
    "# get alignment start and end regions\n",
    "vx_nts = extract_nts_from_start_and_end_from_genbank(vx_template_gb_dict_ss, 6)\n",
    "vx_seq_start_a, vx_seq_end_a = vx_nts.start_nts.value_counts().nlargest(1).index[0], vx_nts.end_nts.value_counts().nlargest(1).index[0]\n",
    "# vx_seq_start_a, vx_seq_end_a, vx_nts.start_nts.value_counts().values[0], vx_nts.end_nts.value_counts().values[0]"
   ]
  },
  {
   "cell_type": "markdown",
   "id": "4d97f148-8bda-445b-9982-67990e543806",
   "metadata": {
    "tags": []
   },
   "source": [
    "## GET PROBE SEQS INTO A DICTIOANRY"
   ]
  },
  {
   "cell_type": "code",
   "execution_count": 12,
   "id": "13c10bc4-9295-4553-b989-57c2e9ea53d3",
   "metadata": {},
   "outputs": [],
   "source": [
    "# dictionary containing probe seq and name\n",
    "h3_dict = df.set_index('name', drop=True).to_dict().get('h3_nt')"
   ]
  },
  {
   "cell_type": "markdown",
   "id": "04bcde21-6690-4d6d-8dda-4f50cc6f567d",
   "metadata": {
    "tags": []
   },
   "source": [
    "## FINDING THE PROBES THAT MATCH VH"
   ]
  },
  {
   "cell_type": "code",
   "execution_count": 13,
   "id": "273e0653-b8a4-46b5-a1a8-755461ea23cf",
   "metadata": {},
   "outputs": [],
   "source": [
    "log.info(f\"ITERATING THROUGH EACH SAMPLE ID\")\n",
    "result_vx= []\n",
    "for sample in sample_ids:\n",
    "    _vxabi = get_vx_abi_file_path(key=sample, vx_abi_dict=vx_abi_dict)\n",
    "    _vx_d = get_seqobj_from_abi(_vxabi)  # returns a seq record obj of VX\n",
    "    \n",
    "    # matching each probe on  Vx - normal and revcomp sequence\n",
    "    vh_prob_search = find_match_on_all_h3probes(log, h3_dict, _vx_d, sample, vx_abi_dict)\n",
    "    \n",
    "    if len(vh_prob_search) >=1:\n",
    "        result_vx.append(vh_prob_search)\n",
    "log.info(f\"FINISH ITERATING THROUGH EACH SAMPLE ID\")\n",
    "colnames=[\"Match\",\"h3_name\",\"sample_id\",f\"{abbr_lower}_abi_fp\", \"probe_seq\", f\"{abbr_lower}_init_sr\", f\"{abbr_lower}_sr_seq_r\", f\"{abbr_lower}_sr_trimmed\", f\"{abbr_lower}_sr_tqlst\"]\n",
    "df_vx = pd.DataFrame(chain.from_iterable(result_vx))\n",
    "df_vx.columns = colnames"
   ]
  },
  {
   "cell_type": "code",
   "execution_count": 14,
   "id": "d2d4b8a2-22cb-4d0c-b28f-38f288073b13",
   "metadata": {},
   "outputs": [],
   "source": [
    "log.info(f\"[+] INFO: There are {df_vx.shape[0]} matches in df_vx\")"
   ]
  },
  {
   "cell_type": "markdown",
   "id": "75775b09-e667-4def-abb9-090d10defccc",
   "metadata": {},
   "source": [
    "## COPY PROBE MATCHED ABI FILES TO A NEW LOC"
   ]
  },
  {
   "cell_type": "code",
   "execution_count": 15,
   "id": "e8c46033-e70e-483c-a091-43d31e67d9dc",
   "metadata": {},
   "outputs": [],
   "source": [
    "log.info(f\"COPY MATCHED ABI FILES INTO NEW LOCATION\")\n",
    "res_df_copy = copy_mtched_abi_files_to_resdir_vx(log, res_dir_vx, abbr_lower, df_vx=df_vx, log_msg=True)\n",
    "log.info(f\"FINISH COPYING FILES\")"
   ]
  },
  {
   "cell_type": "markdown",
   "id": "1ff12f43-4909-4fa5-9dff-d1cd22e37b10",
   "metadata": {},
   "source": [
    "## PAIRWISE ALIGNMENT OF GENBANK FILES WITH MATCHED ABI FILES TO GET THE MATCHING SCORE "
   ]
  },
  {
   "cell_type": "code",
   "execution_count": 16,
   "id": "d49a156e-1555-41fc-bddb-16bf5c9d559c",
   "metadata": {},
   "outputs": [],
   "source": [
    "log.info(f\"FIND THE GB FILENASMES WITH H3 NAMES\")\n",
    "M_gb_abi_vx = find_gb_match_on_all_h3probes_single(log, vx_template_gb_dict_ss, df_vx, pattern=patrm_vx_gb, log_msg=True)"
   ]
  },
  {
   "cell_type": "code",
   "execution_count": 17,
   "id": "b2432476-57b3-4768-9009-f9f9f2439885",
   "metadata": {},
   "outputs": [],
   "source": [
    "log.info(f\"ALIGNEMNT BETWEEN THE MATCHED GB FILENASME AND ABI FILES\")"
   ]
  },
  {
   "cell_type": "code",
   "execution_count": 18,
   "id": "efcf0005-fa5c-4e15-9b4d-d83e99291316",
   "metadata": {},
   "outputs": [],
   "source": [
    "vx_gb_abi_match_filtered = run_gb_alignment_and_filtering_single(M_gb_abi_vx, df_vx, vx_template_gb_dict_ss, vx_seq_start_a, vx_seq_end_a, \n",
    "                                                                 par_match, par_missmatch, par_open, par_extend, par_filter_thresh, log, log_msg=True, is_data_vl=False)"
   ]
  },
  {
   "cell_type": "code",
   "execution_count": 19,
   "id": "0a16f1c6-f54a-4940-8bdc-91152b034d0e",
   "metadata": {},
   "outputs": [],
   "source": [
    "log.info(f\"MERGING DATAFRAMES\")"
   ]
  },
  {
   "cell_type": "code",
   "execution_count": 20,
   "id": "6139dcfa-6323-44fb-8d56-a2ecad92cbc1",
   "metadata": {},
   "outputs": [],
   "source": [
    "vx_gb_abi_match_filtered.columns = [ f\"{abbr}_\"+i  if i not in ['Orient','gbid','H3_name', 'sample_id', 'GB_FP'] else i  for i in vx_gb_abi_match_filtered.columns ]"
   ]
  },
  {
   "cell_type": "code",
   "execution_count": 21,
   "id": "19a3ab7c-23de-4ac3-b548-f5ea10645212",
   "metadata": {
    "tags": []
   },
   "outputs": [],
   "source": [
    "df_sid_abi = pd.DataFrame([ [i, vx_abi_dict.get(i).split(\"/\")[-1]] for i in vx_gb_abi_match_filtered.sample_id.to_list()], columns=[\"sample_id\", f\"{abbr}\"])\n",
    "dfx = pd.merge(vx_gb_abi_match_filtered,df_sid_abi,on='sample_id')"
   ]
  },
  {
   "cell_type": "code",
   "execution_count": 22,
   "id": "08b87199-0020-4a57-b3c8-6ca58d44ef92",
   "metadata": {},
   "outputs": [],
   "source": [
    "log.info(f\"[+] INFO: There are {vx_gb_abi_match_filtered.shape[0]} rows in the GB - {abbr} aligned datafrme `vx_gb_abi_match_filtered`\")\n",
    "log.info(f\"[+] INFO: There are {dfx.shape[0]} rows in the final - filtered merged cleanedup results\")\n",
    "log.info(f\"[+] STAT: basic stats of the numerical columns in the final dataframe : \\n{dfx[dfx.dtypes[dfx.dtypes !='object'].index].describe()}\")"
   ]
  },
  {
   "cell_type": "code",
   "execution_count": 23,
   "id": "5408d10e-0b47-43e3-b257-2b9a16f0cc1d",
   "metadata": {},
   "outputs": [],
   "source": [
    "log.info(f\"WRTING EXCEL FILES\")"
   ]
  },
  {
   "cell_type": "code",
   "execution_count": 24,
   "id": "077af785-34e4-4d67-8886-f31b44b755c6",
   "metadata": {},
   "outputs": [],
   "source": [
    "excel_fp = get_excel_file_name(config, accessory=False)\n",
    "with pd.ExcelWriter(excel_fp, engine='xlsxwriter') as writer:\n",
    "    dfx.to_excel(writer, sheet_name='final_res_mean_error_prob', index=False)\n",
    "    M_gb_abi_vx.to_excel(writer, sheet_name=f\"ID_matched_gb_and_{abbr}_abi\", index=False)"
   ]
  },
  {
   "cell_type": "code",
   "execution_count": 25,
   "id": "ee499eab-dc79-4a30-909d-60200ccb2aa1",
   "metadata": {},
   "outputs": [],
   "source": [
    "excel_fp2 = get_excel_file_name(config, accessory=True)\n",
    "with pd.ExcelWriter(excel_fp2, engine='xlsxwriter') as writer:    \n",
    "    df_vx.to_excel(writer, sheet_name=f\"H3_probe_matched_with_{abbr}\", index=False)\n",
    "    res_df_copy.to_excel(writer, sheet_name=f\"{abbr}_copied_files\", index=False)\n",
    "    vx_nts.to_excel(writer, sheet_name=f\"{abbr_lower}_gb_start_end_nts\", index=False)"
   ]
  },
  {
   "cell_type": "code",
   "execution_count": 26,
   "id": "8d91caec-16f2-4b6c-843e-1e315f4731f7",
   "metadata": {},
   "outputs": [],
   "source": [
    "log.info(f\"FINISNED\")"
   ]
  }
 ],
 "metadata": {
  "kernelspec": {
   "display_name": "Python 3 (ipykernel)",
   "language": "python",
   "name": "python3"
  },
  "language_info": {
   "codemirror_mode": {
    "name": "ipython",
    "version": 3
   },
   "file_extension": ".py",
   "mimetype": "text/x-python",
   "name": "python",
   "nbconvert_exporter": "python",
   "pygments_lexer": "ipython3",
   "version": "3.9.0"
  }
 },
 "nbformat": 4,
 "nbformat_minor": 5
}
